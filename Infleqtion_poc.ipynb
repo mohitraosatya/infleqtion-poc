{
  "nbformat": 4,
  "nbformat_minor": 0,
  "metadata": {
    "colab": {
      "provenance": [],
      "authorship_tag": "ABX9TyMIG52tc29iQ8hnj+3AMX94",
      "include_colab_link": true
    },
    "kernelspec": {
      "name": "python3",
      "display_name": "Python 3"
    },
    "language_info": {
      "name": "python"
    }
  },
  "cells": [
    {
      "cell_type": "markdown",
      "metadata": {
        "id": "view-in-github",
        "colab_type": "text"
      },
      "source": [
        "<a href=\"https://colab.research.google.com/github/mohitraosatya/infleqtion-poc/blob/main/Infleqtion_poc.ipynb\" target=\"_parent\"><img src=\"https://colab.research.google.com/assets/colab-badge.svg\" alt=\"Open In Colab\"/></a>"
      ]
    },
    {
      "cell_type": "code",
      "execution_count": 1,
      "metadata": {
        "colab": {
          "base_uri": "https://localhost:8080/"
        },
        "id": "Qc4t6n8rZ6My",
        "outputId": "760214b4-1909-454b-f063-32be544b4af0"
      },
      "outputs": [
        {
          "output_type": "stream",
          "name": "stdout",
          "text": [
            "Requirement already satisfied: gym in /usr/local/lib/python3.11/dist-packages (0.25.2)\n",
            "Requirement already satisfied: numpy>=1.18.0 in /usr/local/lib/python3.11/dist-packages (from gym) (2.0.2)\n",
            "Requirement already satisfied: cloudpickle>=1.2.0 in /usr/local/lib/python3.11/dist-packages (from gym) (3.1.1)\n",
            "Requirement already satisfied: gym_notices>=0.0.4 in /usr/local/lib/python3.11/dist-packages (from gym) (0.0.8)\n"
          ]
        }
      ],
      "source": [
        "# Install gym if not already installed\n",
        "!pip install gym\n",
        "\n",
        "# For our RL implementation and plotting:\n",
        "import gym\n",
        "from gym import spaces\n",
        "import numpy as np\n",
        "import random\n",
        "import matplotlib.pyplot as plt\n",
        "\n",
        "# Set random seeds for reproducibility\n",
        "np.random.seed(42)\n",
        "random.seed(42)"
      ]
    },
    {
      "cell_type": "code",
      "source": [
        "class QuantumCircuitDecompositionEnv(gym.Env):\n",
        "    \"\"\"\n",
        "    A custom Gym environment simulating quantum circuit decomposition.\n",
        "    The circuit consists of a fixed number of gates.\n",
        "    For each gate, the agent chooses a decomposition:\n",
        "      - Action 0: optimal decomposition (cost = 2)\n",
        "      - Action 1: suboptimal decomposition (cost = 4)\n",
        "    The goal is to minimize the total cost (i.e. maximize the negative cost reward).\n",
        "    \"\"\"\n",
        "    metadata = {'render.modes': ['human']}\n",
        "\n",
        "    def __init__(self, num_gates=5):\n",
        "        super(QuantumCircuitDecompositionEnv, self).__init__()\n",
        "        self.num_gates = num_gates  # total number of gates in the circuit\n",
        "        self.current_gate = 0       # index of the current gate\n",
        "        self.total_cost = 0         # accumulated cost\n",
        "\n",
        "        # Define action space: 0 or 1 (2 discrete actions)\n",
        "        self.action_space = spaces.Discrete(2)\n",
        "\n",
        "        # Define observation space: simply the current gate index (from 0 to num_gates)\n",
        "        self.observation_space = spaces.Discrete(self.num_gates + 1)\n",
        "\n",
        "    def reset(self):\n",
        "        self.current_gate = 0\n",
        "        self.total_cost = 0\n",
        "        return self.current_gate  # initial observation\n",
        "\n",
        "    def step(self, action):\n",
        "        # Validate action\n",
        "        if action not in [0, 1]:\n",
        "            raise ValueError(\"Invalid action! Must be 0 or 1.\")\n",
        "\n",
        "        # Define cost based on action\n",
        "        if action == 0:\n",
        "            cost = 2  # optimal decomposition\n",
        "        else:\n",
        "            cost = 4  # suboptimal decomposition\n",
        "\n",
        "        self.total_cost += cost\n",
        "\n",
        "        # Move to next gate\n",
        "        self.current_gate += 1\n",
        "\n",
        "        # Check if episode is done\n",
        "        done = self.current_gate >= self.num_gates\n",
        "\n",
        "        # We use negative cost as reward (we want to minimize cost)\n",
        "        reward = -cost\n",
        "\n",
        "        return self.current_gate, reward, done, {}\n",
        "\n",
        "    def render(self, mode='human'):\n",
        "        print(f\"Gate {self.current_gate}/{self.num_gates}, Total Cost: {self.total_cost}\")\n",
        "\n",
        "    def close(self):\n",
        "        pass\n",
        "\n",
        "# Test the environment quickly:\n",
        "env = QuantumCircuitDecompositionEnv(num_gates=5)\n",
        "obs = env.reset()\n",
        "print(\"Initial state:\", obs)\n",
        "for _ in range(5):\n",
        "    obs, reward, done, _ = env.step(0)  # always choose the optimal action (0)\n",
        "    env.render()"
      ],
      "metadata": {
        "colab": {
          "base_uri": "https://localhost:8080/"
        },
        "id": "sioXR5T1Z8jN",
        "outputId": "6275ffd3-0310-4e1d-e860-14d830c6a0be"
      },
      "execution_count": 2,
      "outputs": [
        {
          "output_type": "stream",
          "name": "stdout",
          "text": [
            "Initial state: 0\n",
            "Gate 1/5, Total Cost: 2\n",
            "Gate 2/5, Total Cost: 4\n",
            "Gate 3/5, Total Cost: 6\n",
            "Gate 4/5, Total Cost: 8\n",
            "Gate 5/5, Total Cost: 10\n"
          ]
        }
      ]
    },
    {
      "cell_type": "code",
      "source": [
        "# Define Q-learning parameters\n",
        "num_episodes = 5000\n",
        "alpha = 0.1         # learning rate\n",
        "gamma = 0.95        # discount factor\n",
        "epsilon = 1.0       # exploration rate (start high)\n",
        "min_epsilon = 0.01\n",
        "decay_rate = 0.001\n",
        "\n",
        "# Initialize Q-table: rows = states (0 to num_gates), columns = actions (0 and 1)\n",
        "num_states = env.observation_space.n\n",
        "num_actions = env.action_space.n\n",
        "Q_table = np.zeros((num_states, num_actions))\n",
        "\n",
        "# Store total rewards per episode for plotting\n",
        "rewards_all_episodes = []\n",
        "\n",
        "for episode in range(num_episodes):\n",
        "    state = env.reset()\n",
        "    done = False\n",
        "    total_rewards = 0\n",
        "\n",
        "    while not done:\n",
        "        # Epsilon-greedy action selection\n",
        "        if random.uniform(0, 1) < epsilon:\n",
        "            action = env.action_space.sample()  # explore\n",
        "        else:\n",
        "            action = np.argmax(Q_table[state])  # exploit learned values\n",
        "\n",
        "        new_state, reward, done, _ = env.step(action)\n",
        "        total_rewards += reward\n",
        "\n",
        "        # Q-learning update rule\n",
        "        Q_table[state, action] = Q_table[state, action] + alpha * (\n",
        "            reward + gamma * np.max(Q_table[new_state]) - Q_table[state, action]\n",
        "        )\n",
        "\n",
        "        state = new_state\n",
        "\n",
        "    # Decay epsilon after each episode\n",
        "    epsilon = max(min_epsilon, epsilon * np.exp(-decay_rate * episode))\n",
        "    rewards_all_episodes.append(total_rewards)\n",
        "\n",
        "# Print the learned Q-table\n",
        "print(\"Learned Q-table:\")\n",
        "print(Q_table)"
      ],
      "metadata": {
        "colab": {
          "base_uri": "https://localhost:8080/"
        },
        "id": "wj41i0gLZ_Ws",
        "outputId": "ca141e25-cbc1-40ad-9768-66d70e931065"
      },
      "execution_count": 3,
      "outputs": [
        {
          "output_type": "stream",
          "name": "stdout",
          "text": [
            "Learned Q-table:\n",
            "[[ -9.0487625  -10.74750456]\n",
            " [ -7.41975     -9.33777308]\n",
            " [ -5.705       -7.63908786]\n",
            " [ -3.9         -5.73285228]\n",
            " [ -2.          -3.96508815]\n",
            " [  0.           0.        ]]\n"
          ]
        }
      ]
    },
    {
      "cell_type": "code",
      "source": [
        "# Compute average reward per 100 episodes\n",
        "avg_rewards = np.split(np.array(rewards_all_episodes), num_episodes/100)\n",
        "avg_rewards = [np.mean(segment) for segment in avg_rewards]\n",
        "\n",
        "plt.plot(avg_rewards)\n",
        "plt.xlabel(\"Episode (in hundreds)\")\n",
        "plt.ylabel(\"Average Total Reward\")\n",
        "plt.title(\"Training Progress of Q-Learning Agent\")\n",
        "plt.show()"
      ],
      "metadata": {
        "colab": {
          "base_uri": "https://localhost:8080/",
          "height": 472
        },
        "id": "MQRN4mV-aCo6",
        "outputId": "1f2dc5f6-5f8d-4c1b-c875-d7596f518407"
      },
      "execution_count": 4,
      "outputs": [
        {
          "output_type": "display_data",
          "data": {
            "text/plain": [
              "<Figure size 640x480 with 1 Axes>"
            ],
            "image/png": "[encoded data removed]"
          },
          "metadata": {}
        }
      ]
    },
    {
      "cell_type": "code",
      "source": [
        "state = env.reset()\n",
        "done = False\n",
        "actions_taken = []\n",
        "while not done:\n",
        "    action = np.argmax(Q_table[state])\n",
        "    actions_taken.append(action)\n",
        "    state, reward, done, _ = env.step(action)\n",
        "    env.render()\n",
        "\n",
        "# Calculate total cost based on actions\n",
        "# (Recall: action 0 cost = 2, action 1 cost = 4)\n",
        "total_cost = sum(2 if a == 0 else 4 for a in actions_taken)\n",
        "print(\"\\nActions taken:\", actions_taken)\n",
        "print(\"Expected total cost (should be minimal):\", total_cost)"
      ],
      "metadata": {
        "colab": {
          "base_uri": "https://localhost:8080/"
        },
        "id": "akEwC5TeaFMw",
        "outputId": "71ca05a8-bd35-44a0-a0bd-afe5eaddb155"
      },
      "execution_count": 5,
      "outputs": [
        {
          "output_type": "stream",
          "name": "stdout",
          "text": [
            "Gate 1/5, Total Cost: 2\n",
            "Gate 2/5, Total Cost: 4\n",
            "Gate 3/5, Total Cost: 6\n",
            "Gate 4/5, Total Cost: 8\n",
            "Gate 5/5, Total Cost: 10\n",
            "\n",
            "Actions taken: [np.int64(0), np.int64(0), np.int64(0), np.int64(0), np.int64(0)]\n",
            "Expected total cost (should be minimal): 10\n"
          ]
        }
      ]
    },
    {
      "cell_type": "code",
      "source": [],
      "metadata": {
        "id": "jjUhNLmAaHbt"
      },
      "execution_count": null,
      "outputs": []
    }
  ]
}